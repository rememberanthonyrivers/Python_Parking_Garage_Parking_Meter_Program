{
 "cells": [
  {
   "cell_type": "code",
   "execution_count": null,
   "metadata": {},
   "outputs": [],
   "source": [
    "#Parking Garage\n",
    "\n",
    "\n",
    "class ParkingSpaces():\n",
    "    \n",
    "    \n",
    "    def __init__(self, ticket = 5, parkingspaces=5):\n",
    "        self.ticket = ticket\n",
    "        self.parkingspaces = parkingspaces\n",
    "        self.currentTicket = {}\n",
    "        \n",
    "#decrease amount of ticket and parkingspaces by 1\n",
    "\n",
    "    def taketicket(self):\n",
    "        name = input(\"Please enter your name: \").lower().strip()\n",
    "        if name not in self.currentTicket.keys():\n",
    "            self.ticket -= 1\n",
    "            self.parkingspaces -= 1\n",
    "            self.currentTicket[name] = False\n",
    "            print(f\"Thank you {name}, we hope you have a wonderful time here\")\n",
    "        else: \n",
    "            print(\"Please try again\")\n",
    "#display an input that waits for an amount from the user and store it in a variable            \n",
    "            \n",
    "    def payForParking(self):\n",
    "        name = input(\"Please enter your name: \").lower().strip()\n",
    "        if name in self.currentTicket.keys():\n",
    "            self.currentTicket[name] = True\n",
    "            print(\"Your ticket has been paid. You have 15 minutes to leave. Thank you!\")\n",
    "            del self.currentTicket[name]\n",
    "        else:\n",
    "            print(\"You do not have a parking ticket registered with us. Please try again\")\n",
    "      \n",
    "    def leave_garage(self):\n",
    "        name = input(\"Please enter your name: \")\n",
    "        if name in self.currentTicket.keys():\n",
    "            print(\"You have not paid for your ticket. Please pay for your ticket at the kiosk.\")\n",
    "        else:\n",
    "            print(\"Thank you, please come back soon!\")\n",
    "            self.ticket += 1\n",
    "            self.parkingspaces += 1\n",
    "            \n",
    "            \n",
    "kiosk = ParkingSpaces()\n",
    "while True:\n",
    "    whatdoyouwant = input(\"Welcome! What would you like to do? take ticket/pay for parking/leave garage? or quit \").lower().strip()\n",
    "    if whatdoyouwant == 'quit':\n",
    "        print(\"See you next time!\")\n",
    "        break\n",
    "        \n",
    "    elif whatdoyouwant == 'take ticket':\n",
    "        kiosk.taketicket()\n",
    " \n",
    "    elif whatdoyouwant == 'leave garage':\n",
    "        kiosk.leave_garage()\n",
    "    elif whatdoyouwant == 'pay for parking':\n",
    "        kiosk.payForParking()\n",
    "        "
   ]
  },
  {
   "cell_type": "code",
   "execution_count": null,
   "metadata": {},
   "outputs": [],
   "source": []
  },
  {
   "cell_type": "code",
   "execution_count": null,
   "metadata": {},
   "outputs": [],
   "source": []
  }
 ],
 "metadata": {
  "kernelspec": {
   "display_name": "Python 3",
   "language": "python",
   "name": "python3"
  },
  "language_info": {
   "codemirror_mode": {
    "name": "ipython",
    "version": 3
   },
   "file_extension": ".py",
   "mimetype": "text/x-python",
   "name": "python",
   "nbconvert_exporter": "python",
   "pygments_lexer": "ipython3",
   "version": "3.8.3"
  }
 },
 "nbformat": 4,
 "nbformat_minor": 4
}
